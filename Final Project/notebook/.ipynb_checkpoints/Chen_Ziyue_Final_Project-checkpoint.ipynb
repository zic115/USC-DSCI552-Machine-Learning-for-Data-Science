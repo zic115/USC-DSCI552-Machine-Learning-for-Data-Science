{
 "cells": [
  {
   "cell_type": "markdown",
   "id": "3a43b607",
   "metadata": {},
   "source": [
    "# DSCI 552 Final Project\n",
    "\n",
    "Name: Ziyue Chen\n",
    "\n",
    "Github Username: zic115\n",
    "\n",
    "USC ID: 8823457220"
   ]
  },
  {
   "cell_type": "code",
   "execution_count": 1,
   "id": "8f158354",
   "metadata": {},
   "outputs": [],
   "source": [
    "# Import packages\n",
    "import splitfolders\n",
    "\n",
    "import tensorflow as tf\n",
    "from tensorflow.keras.preprocessing import image_dataset_from_directory\n",
    "from tensorflow.keras.preprocessing.image import ImageDataGenerator\n",
    "from tensorflow.keras.applications import EfficientNetB0, VGG16\n",
    "from tensorflow.keras.applications.efficientnet import preprocess_input as preprocess_input_e\n",
    "from tensorflow.keras.applications.vgg16 import preprocess_input as preprocess_input_v\n",
    "from tensorflow.keras.models import Model, Sequential, load_model\n",
    "from tensorflow.keras.layers import GlobalAveragePooling2D, BatchNormalization, Dense, Dropout\n",
    "from tensorflow.keras.callbacks import EarlyStopping\n",
    "\n",
    "import numpy as np\n",
    "from sklearn.metrics import classification_report\n",
    "\n",
    "import matplotlib.pyplot as plt"
   ]
  },
  {
   "cell_type": "markdown",
   "id": "c0d3b254",
   "metadata": {},
   "source": [
    "# 1. Transfer Learning for Image Classification"
   ]
  },
  {
   "cell_type": "markdown",
   "id": "4a003f9d",
   "metadata": {},
   "source": [
    "## 1. (b) Data Exploration and Pre-processing"
   ]
  },
  {
   "cell_type": "markdown",
   "id": "8347e239",
   "metadata": {},
   "source": [
    "### 1. (b) ii. Generate the training set, validation set, and test set"
   ]
  },
  {
   "cell_type": "code",
   "execution_count": 2,
   "id": "5479bc82",
   "metadata": {},
   "outputs": [
    {
     "name": "stderr",
     "output_type": "stream",
     "text": [
      "Copying files: 1176 files [00:00, 5189.67 files/s]\n"
     ]
    }
   ],
   "source": [
    "# Generate the training set, validation set, and test test\n",
    "input_folder = '../data/images'\n",
    "output_folder = '../data/splited'\n",
    "splitfolders.ratio(input_folder, output = output_folder, seed = 42, ratio = (0.715, 0.155, 0.13)) "
   ]
  },
  {
   "cell_type": "markdown",
   "id": "b511b100",
   "metadata": {},
   "source": [
    "### 1. (b) i. Encode the classes using one-hot encoding & 1. (b) iii. Zero-pad or resize the images"
   ]
  },
  {
   "cell_type": "code",
   "execution_count": 3,
   "id": "912295cf",
   "metadata": {},
   "outputs": [
    {
     "name": "stderr",
     "output_type": "stream",
     "text": [
      "2022-12-10 22:31:25.777871: I tensorflow/core/platform/cpu_feature_guard.cc:193] This TensorFlow binary is optimized with oneAPI Deep Neural Network Library (oneDNN) to use the following CPU instructions in performance-critical operations:  SSE4.1 SSE4.2\n",
      "To enable them in other operations, rebuild TensorFlow with the appropriate compiler flags.\n"
     ]
    },
    {
     "name": "stdout",
     "output_type": "stream",
     "text": [
      "Found 827 files belonging to 20 classes.\n",
      "Found 175 files belonging to 20 classes.\n",
      "Found 174 files belonging to 20 classes.\n"
     ]
    }
   ],
   "source": [
    "# Load the images by defining label_mode and image_size\n",
    "train = image_dataset_from_directory('../data/splited/train', label_mode = 'categorical', image_size = (224, 224), shuffle = False)\n",
    "val = image_dataset_from_directory('../data/splited/val', label_mode = 'categorical', image_size = (224, 224), shuffle = False)\n",
    "test = image_dataset_from_directory('../data/splited/test', label_mode = 'categorical', image_size = (224, 224), shuffle = False)"
   ]
  },
  {
   "cell_type": "markdown",
   "id": "b8d93bc0",
   "metadata": {},
   "source": [
    "## 1. (c) Transfer Learning"
   ]
  },
  {
   "cell_type": "markdown",
   "id": "763fdb28",
   "metadata": {},
   "source": [
    "### 1. (c) ii. Perform image augmentation"
   ]
  },
  {
   "cell_type": "code",
   "execution_count": 4,
   "id": "42c1b0ca",
   "metadata": {},
   "outputs": [
    {
     "name": "stdout",
     "output_type": "stream",
     "text": [
      "Found 827 images belonging to 20 classes.\n",
      "Found 827 images belonging to 20 classes.\n",
      "Found 175 images belonging to 20 classes.\n",
      "Found 175 images belonging to 20 classes.\n",
      "Found 174 images belonging to 20 classes.\n",
      "Found 174 images belonging to 20 classes.\n"
     ]
    }
   ],
   "source": [
    "# Use ImageDataGenerator to apply image augmentation\n",
    "train_gen_e = ImageDataGenerator(preprocessing_function = preprocess_input_e,\n",
    "                               zoom_range = 0.2,\n",
    "                               rotation_range = 45,\n",
    "                               horizontal_flip = True,\n",
    "                               vertical_flip = False,\n",
    "                               width_shift_range = 0.2,\n",
    "                               height_shift_range = 0.2,\n",
    "                               brightness_range = [0.2,0.8])\n",
    "train_gen_v = ImageDataGenerator(preprocessing_function = preprocess_input_v,\n",
    "                               zoom_range = 0.2,\n",
    "                               rotation_range = 45,\n",
    "                               horizontal_flip = True,\n",
    "                               vertical_flip = False,\n",
    "                               width_shift_range = 0.2,\n",
    "                               height_shift_range = 0.2,\n",
    "                               brightness_range = [0.2,0.8])\n",
    "\n",
    "train_e = train_gen_e.flow_from_directory('../data/splited/train', target_size = (224, 224), class_mode = 'categorical', shuffle = False)\n",
    "train_v = train_gen_v.flow_from_directory('../data/splited/train', target_size = (224, 224), class_mode = 'categorical', shuffle = False)\n",
    "\n",
    "val_gen_e = ImageDataGenerator(preprocessing_function = preprocess_input_e)\n",
    "val_gen_v = ImageDataGenerator(preprocessing_function = preprocess_input_v)\n",
    "\n",
    "val_e = val_gen_e.flow_from_directory('../data/splited/val', target_size = (224, 224), class_mode = 'categorical', shuffle = False)\n",
    "val_v = val_gen_v.flow_from_directory('../data/splited/val', target_size = (224, 224), class_mode = 'categorical', shuffle = False)\n",
    "\n",
    "test_gen_e = ImageDataGenerator(preprocessing_function = preprocess_input_e)\n",
    "test_gen_v = ImageDataGenerator(preprocessing_function = preprocess_input_v)\n",
    "\n",
    "test_e = test_gen_e.flow_from_directory('../data/splited/test', target_size = (224, 224), class_mode = 'categorical', shuffle = False)\n",
    "test_v = test_gen_v.flow_from_directory('../data/splited/test', target_size = (224, 224), class_mode = 'categorical', shuffle = False)\n"
   ]
  },
  {
   "cell_type": "markdown",
   "id": "fdb19714",
   "metadata": {},
   "source": [
    "### 1. (c) iii. Modify the pre-trained EfficientNetB0 and VGG16 networks"
   ]
  },
  {
   "cell_type": "code",
   "execution_count": 5,
   "id": "e2eae5b8",
   "metadata": {},
   "outputs": [],
   "source": [
    "# EfficientNetB0 - remove the last layer and freeze all layers before it\n",
    "efficientnet = EfficientNetB0(weights = 'imagenet', input_shape = (224, 224, 3), include_top = False)\n",
    "base_model_e = Model(efficientnet.input, efficientnet.layers[-2].output)\n",
    "base_model_e.trainable = False"
   ]
  },
  {
   "cell_type": "code",
   "execution_count": 6,
   "id": "55b5322e",
   "metadata": {},
   "outputs": [],
   "source": [
    "# EfficientNetB0 - add the ReLU activation function and the softmax layer\n",
    "model_e = Sequential([base_model_e])\n",
    "model_e.add(GlobalAveragePooling2D())\n",
    "model_e.add(BatchNormalization())\n",
    "model_e.add(Dense(100, activation = 'relu'))\n",
    "model_e.add(Dropout(0.2))\n",
    "model_e.add(Dense(20, activation = 'softmax'))\n",
    "model_e.compile(optimizer = 'adam', loss = 'categorical_crossentropy', metrics = ['accuracy'])"
   ]
  },
  {
   "cell_type": "code",
   "execution_count": 7,
   "id": "dcb7066d",
   "metadata": {},
   "outputs": [],
   "source": [
    "# VGG16 - remove the last layer and freeze all layers before it\n",
    "vgg = VGG16(weights = 'imagenet', input_shape = (224, 224, 3), include_top = False)\n",
    "base_model_v = Model(vgg.input, vgg.layers[-2].output)\n",
    "base_model_v.trainable = False"
   ]
  },
  {
   "cell_type": "code",
   "execution_count": 8,
   "id": "cd1d7462",
   "metadata": {},
   "outputs": [],
   "source": [
    "# VGG16 - add the ReLU activation function and the softmax layer\n",
    "model_v = Sequential([base_model_v])\n",
    "model_v.add(GlobalAveragePooling2D())\n",
    "model_v.add(BatchNormalization())\n",
    "model_v.add(Dense(100, activation = 'relu'))\n",
    "model_v.add(Dropout(0.2))\n",
    "model_v.add(Dense(20, activation = 'softmax'))\n",
    "model_v.compile(optimizer = 'adam', loss = 'categorical_crossentropy', metrics = ['accuracy'])"
   ]
  },
  {
   "cell_type": "markdown",
   "id": "e0b54287",
   "metadata": {},
   "source": [
    "### 1. (c). iv. Train the modified EfficientNetB0 and VGG16 networks"
   ]
  },
  {
   "cell_type": "code",
   "execution_count": 9,
   "id": "4cbb361b",
   "metadata": {},
   "outputs": [
    {
     "name": "stdout",
     "output_type": "stream",
     "text": [
      "Epoch 1/100\n",
      "26/26 [==============================] - 22s 732ms/step - loss: 4.0781 - accuracy: 0.0459 - val_loss: 3.4717 - val_accuracy: 0.1829\n",
      "Epoch 2/100\n",
      "26/26 [==============================] - 19s 702ms/step - loss: 3.2043 - accuracy: 0.1294 - val_loss: 2.7908 - val_accuracy: 0.2800\n",
      "Epoch 3/100\n",
      "26/26 [==============================] - 19s 705ms/step - loss: 2.7325 - accuracy: 0.2116 - val_loss: 1.8974 - val_accuracy: 0.4571\n",
      "Epoch 4/100\n",
      "26/26 [==============================] - 19s 704ms/step - loss: 2.4252 - accuracy: 0.3156 - val_loss: 1.6308 - val_accuracy: 0.5314\n",
      "Epoch 5/100\n",
      "26/26 [==============================] - 19s 714ms/step - loss: 2.3491 - accuracy: 0.3204 - val_loss: 1.4060 - val_accuracy: 0.5657\n",
      "Epoch 6/100\n",
      "26/26 [==============================] - 19s 709ms/step - loss: 2.2205 - accuracy: 0.3591 - val_loss: 1.2663 - val_accuracy: 0.6114\n",
      "Epoch 7/100\n",
      "26/26 [==============================] - 19s 704ms/step - loss: 2.0810 - accuracy: 0.3978 - val_loss: 1.2116 - val_accuracy: 0.6286\n",
      "Epoch 8/100\n",
      "26/26 [==============================] - 19s 705ms/step - loss: 1.9624 - accuracy: 0.4244 - val_loss: 1.0870 - val_accuracy: 0.6343\n",
      "Epoch 9/100\n",
      "26/26 [==============================] - 18s 700ms/step - loss: 1.8302 - accuracy: 0.4426 - val_loss: 1.1025 - val_accuracy: 0.6571\n",
      "Epoch 10/100\n",
      "26/26 [==============================] - 18s 699ms/step - loss: 1.8326 - accuracy: 0.4547 - val_loss: 1.1715 - val_accuracy: 0.6229\n",
      "Epoch 11/100\n",
      "26/26 [==============================] - 18s 698ms/step - loss: 1.7383 - accuracy: 0.4837 - val_loss: 1.0566 - val_accuracy: 0.6514\n",
      "Epoch 12/100\n",
      "26/26 [==============================] - 18s 696ms/step - loss: 1.6892 - accuracy: 0.4837 - val_loss: 1.0824 - val_accuracy: 0.6686\n",
      "Epoch 13/100\n",
      "26/26 [==============================] - 18s 698ms/step - loss: 1.5831 - accuracy: 0.5200 - val_loss: 0.9279 - val_accuracy: 0.7029\n",
      "Epoch 14/100\n",
      "26/26 [==============================] - 18s 696ms/step - loss: 1.4953 - accuracy: 0.5719 - val_loss: 0.9815 - val_accuracy: 0.6914\n",
      "Epoch 15/100\n",
      "26/26 [==============================] - 18s 698ms/step - loss: 1.4693 - accuracy: 0.5611 - val_loss: 0.9531 - val_accuracy: 0.7029\n",
      "Epoch 16/100\n",
      "26/26 [==============================] - 18s 696ms/step - loss: 1.4604 - accuracy: 0.5768 - val_loss: 1.0245 - val_accuracy: 0.7086\n",
      "Epoch 17/100\n",
      "26/26 [==============================] - 18s 695ms/step - loss: 1.3131 - accuracy: 0.6010 - val_loss: 0.9893 - val_accuracy: 0.7143\n",
      "Epoch 18/100\n",
      "26/26 [==============================] - 18s 696ms/step - loss: 1.3038 - accuracy: 0.6179 - val_loss: 0.9900 - val_accuracy: 0.7029\n",
      "Epoch 19/100\n",
      "26/26 [==============================] - 18s 699ms/step - loss: 1.3005 - accuracy: 0.6143 - val_loss: 0.9259 - val_accuracy: 0.7029\n",
      "Epoch 20/100\n",
      "26/26 [==============================] - 18s 696ms/step - loss: 1.2801 - accuracy: 0.6155 - val_loss: 0.9799 - val_accuracy: 0.6971\n",
      "Epoch 21/100\n",
      "26/26 [==============================] - 18s 698ms/step - loss: 1.2424 - accuracy: 0.6239 - val_loss: 1.0079 - val_accuracy: 0.6686\n",
      "Epoch 22/100\n",
      "26/26 [==============================] - 18s 698ms/step - loss: 1.1898 - accuracy: 0.6336 - val_loss: 0.9463 - val_accuracy: 0.7486\n",
      "Epoch 23/100\n",
      "26/26 [==============================] - 18s 696ms/step - loss: 1.1479 - accuracy: 0.6481 - val_loss: 1.0014 - val_accuracy: 0.7086\n",
      "Epoch 24/100\n",
      "26/26 [==============================] - 18s 695ms/step - loss: 1.0886 - accuracy: 0.6747 - val_loss: 0.9350 - val_accuracy: 0.7657\n",
      "Epoch 25/100\n",
      "26/26 [==============================] - 18s 707ms/step - loss: 1.0571 - accuracy: 0.6747 - val_loss: 0.9955 - val_accuracy: 0.7143\n",
      "Epoch 26/100\n",
      "26/26 [==============================] - 18s 698ms/step - loss: 0.9665 - accuracy: 0.7098 - val_loss: 0.9845 - val_accuracy: 0.7086\n",
      "Epoch 27/100\n",
      "26/26 [==============================] - 18s 695ms/step - loss: 0.9751 - accuracy: 0.7195 - val_loss: 1.0124 - val_accuracy: 0.7086\n",
      "Epoch 28/100\n",
      "26/26 [==============================] - 18s 696ms/step - loss: 0.9697 - accuracy: 0.7207 - val_loss: 1.0079 - val_accuracy: 0.6914\n",
      "Epoch 29/100\n",
      "26/26 [==============================] - 18s 697ms/step - loss: 0.9215 - accuracy: 0.7170 - val_loss: 1.0314 - val_accuracy: 0.6800\n"
     ]
    }
   ],
   "source": [
    "# EfficientNetB0 - train the network\n",
    "early_stopping = EarlyStopping(monitor = 'val_loss', patience = 10, restore_best_weights = True)\n",
    "history_e = model_e.fit(train_e, epochs = 100, batch_size = 5, validation_data = val_e, callbacks = [early_stopping])"
   ]
  },
  {
   "cell_type": "code",
   "execution_count": 10,
   "id": "0ea30d2f",
   "metadata": {},
   "outputs": [],
   "source": [
    "# EfficientNetB0 - extract training and validation errors\n",
    "training_acc_e = history_e.history['accuracy']\n",
    "val_acc_e = history_e.history['val_accuracy']\n",
    "\n",
    "training_err_e = []\n",
    "val_err_e = []\n",
    "for i in range(len(training_acc_e)):\n",
    "    training_err_e.append(1 - training_acc_e[i])\n",
    "    val_err_e.append(1 - val_acc_e[i])"
   ]
  },
  {
   "cell_type": "code",
   "execution_count": 11,
   "id": "9aaf49b8",
   "metadata": {},
   "outputs": [
    {
     "data": {
      "image/png": "[encoded data removed]",
      "text/plain": [
       "<Figure size 640x480 with 1 Axes>"
      ]
     },
     "metadata": {},
     "output_type": "display_data"
    }
   ],
   "source": [
    "# EfficientNetB0 - plot training and validation errors vs. epochs\n",
    "plt.plot(training_err_e, label = 'training error')\n",
    "plt.plot(val_err_e, label = 'validation error')\n",
    "plt.xlabel('Epoch')\n",
    "plt.ylabel('Error')\n",
    "plt.legend(loc = 'upper right')\n",
    "plt.title('EfficientNetB0 - Training and Validation Errors vs. Epochs')\n",
    "plt.show()"
   ]
  },
  {
   "cell_type": "code",
   "execution_count": 12,
   "id": "8375f748",
   "metadata": {},
   "outputs": [
    {
     "name": "stdout",
     "output_type": "stream",
     "text": [
      "Epoch 1/100\n",
      "26/26 [==============================] - 191s 7s/step - loss: 3.8135 - accuracy: 0.0435 - val_loss: 3.9841 - val_accuracy: 0.1429\n",
      "Epoch 2/100\n",
      "26/26 [==============================] - 191s 7s/step - loss: 3.3211 - accuracy: 0.0641 - val_loss: 2.8608 - val_accuracy: 0.2343\n",
      "Epoch 3/100\n",
      "26/26 [==============================] - 192s 7s/step - loss: 3.1061 - accuracy: 0.1028 - val_loss: 2.4683 - val_accuracy: 0.2971\n",
      "Epoch 4/100\n",
      "26/26 [==============================] - 192s 7s/step - loss: 2.9542 - accuracy: 0.1306 - val_loss: 2.2644 - val_accuracy: 0.3314\n",
      "Epoch 5/100\n",
      "26/26 [==============================] - 192s 7s/step - loss: 2.8127 - accuracy: 0.1826 - val_loss: 2.1349 - val_accuracy: 0.3657\n",
      "Epoch 6/100\n",
      "26/26 [==============================] - 193s 7s/step - loss: 2.7031 - accuracy: 0.2056 - val_loss: 1.9386 - val_accuracy: 0.3943\n",
      "Epoch 7/100\n",
      "26/26 [==============================] - 193s 7s/step - loss: 2.6117 - accuracy: 0.2273 - val_loss: 1.8531 - val_accuracy: 0.4800\n",
      "Epoch 8/100\n",
      "26/26 [==============================] - 193s 7s/step - loss: 2.5390 - accuracy: 0.2624 - val_loss: 1.7819 - val_accuracy: 0.4629\n",
      "Epoch 9/100\n",
      "26/26 [==============================] - 193s 7s/step - loss: 2.4520 - accuracy: 0.2696 - val_loss: 1.7220 - val_accuracy: 0.4800\n",
      "Epoch 10/100\n",
      "26/26 [==============================] - 193s 7s/step - loss: 2.4117 - accuracy: 0.2866 - val_loss: 1.6532 - val_accuracy: 0.5200\n",
      "Epoch 11/100\n",
      "26/26 [==============================] - 193s 7s/step - loss: 2.3416 - accuracy: 0.3229 - val_loss: 1.6196 - val_accuracy: 0.5029\n",
      "Epoch 12/100\n",
      "26/26 [==============================] - 192s 7s/step - loss: 2.2781 - accuracy: 0.3579 - val_loss: 1.6139 - val_accuracy: 0.5314\n",
      "Epoch 13/100\n",
      "26/26 [==============================] - 192s 7s/step - loss: 2.2289 - accuracy: 0.3555 - val_loss: 1.5438 - val_accuracy: 0.5714\n",
      "Epoch 14/100\n",
      "26/26 [==============================] - 192s 7s/step - loss: 2.1709 - accuracy: 0.3507 - val_loss: 1.5979 - val_accuracy: 0.5486\n",
      "Epoch 15/100\n",
      "26/26 [==============================] - 192s 7s/step - loss: 2.1016 - accuracy: 0.3809 - val_loss: 1.5433 - val_accuracy: 0.5600\n",
      "Epoch 16/100\n",
      "26/26 [==============================] - 192s 7s/step - loss: 2.0525 - accuracy: 0.3809 - val_loss: 1.5501 - val_accuracy: 0.5543\n",
      "Epoch 17/100\n",
      "26/26 [==============================] - 192s 7s/step - loss: 1.9744 - accuracy: 0.4232 - val_loss: 1.5409 - val_accuracy: 0.5771\n",
      "Epoch 18/100\n",
      "26/26 [==============================] - 192s 7s/step - loss: 1.9603 - accuracy: 0.4087 - val_loss: 1.4985 - val_accuracy: 0.5714\n",
      "Epoch 19/100\n",
      "26/26 [==============================] - 192s 7s/step - loss: 1.9154 - accuracy: 0.4341 - val_loss: 1.4882 - val_accuracy: 0.5771\n",
      "Epoch 20/100\n",
      "26/26 [==============================] - 193s 7s/step - loss: 1.8944 - accuracy: 0.4450 - val_loss: 1.4511 - val_accuracy: 0.6114\n",
      "Epoch 21/100\n",
      "26/26 [==============================] - 194s 8s/step - loss: 1.8718 - accuracy: 0.4728 - val_loss: 1.4231 - val_accuracy: 0.5943\n",
      "Epoch 22/100\n",
      "26/26 [==============================] - 195s 8s/step - loss: 1.8016 - accuracy: 0.4849 - val_loss: 1.4522 - val_accuracy: 0.5886\n",
      "Epoch 23/100\n",
      "26/26 [==============================] - 195s 8s/step - loss: 1.7649 - accuracy: 0.4716 - val_loss: 1.4153 - val_accuracy: 0.5771\n",
      "Epoch 24/100\n",
      "26/26 [==============================] - 194s 8s/step - loss: 1.7421 - accuracy: 0.4946 - val_loss: 1.4185 - val_accuracy: 0.6057\n",
      "Epoch 25/100\n",
      "26/26 [==============================] - 197s 8s/step - loss: 1.6570 - accuracy: 0.5187 - val_loss: 1.4168 - val_accuracy: 0.5657\n",
      "Epoch 26/100\n",
      "26/26 [==============================] - 195s 8s/step - loss: 1.6317 - accuracy: 0.5236 - val_loss: 1.4767 - val_accuracy: 0.5543\n",
      "Epoch 27/100\n",
      "26/26 [==============================] - 455s 18s/step - loss: 1.6486 - accuracy: 0.5175 - val_loss: 1.4681 - val_accuracy: 0.5600\n",
      "Epoch 28/100\n",
      "26/26 [==============================] - 187s 7s/step - loss: 1.5779 - accuracy: 0.5296 - val_loss: 1.4838 - val_accuracy: 0.5886\n",
      "Epoch 29/100\n",
      "26/26 [==============================] - 188s 7s/step - loss: 1.5453 - accuracy: 0.5405 - val_loss: 1.4584 - val_accuracy: 0.5714\n",
      "Epoch 30/100\n",
      "26/26 [==============================] - 189s 7s/step - loss: 1.5238 - accuracy: 0.5574 - val_loss: 1.5224 - val_accuracy: 0.6114\n",
      "Epoch 31/100\n",
      "26/26 [==============================] - 189s 7s/step - loss: 1.4904 - accuracy: 0.5985 - val_loss: 1.5076 - val_accuracy: 0.5771\n",
      "Epoch 32/100\n",
      "26/26 [==============================] - 190s 7s/step - loss: 1.4465 - accuracy: 0.5840 - val_loss: 1.4451 - val_accuracy: 0.5771\n",
      "Epoch 33/100\n",
      "26/26 [==============================] - 191s 7s/step - loss: 1.4335 - accuracy: 0.5889 - val_loss: 1.4796 - val_accuracy: 0.5943\n"
     ]
    }
   ],
   "source": [
    "# VGG16 - train the network\n",
    "history_v = model_v.fit(train_v, epochs = 100, batch_size = 5, validation_data = val_v, callbacks = [early_stopping])"
   ]
  },
  {
   "cell_type": "code",
   "execution_count": 13,
   "id": "b9f7c2aa",
   "metadata": {},
   "outputs": [],
   "source": [
    "# VGG16 - extract training and validation errors\n",
    "training_acc_v = history_v.history['accuracy']\n",
    "val_acc_v = history_v.history['val_accuracy']\n",
    "\n",
    "training_err_v = []\n",
    "val_err_v = []\n",
    "for i in range(len(training_acc_v)):\n",
    "    training_err_v.append(1 - training_acc_v[i])\n",
    "    val_err_v.append(1 - val_acc_v[i])"
   ]
  },
  {
   "cell_type": "code",
   "execution_count": 14,
   "id": "c39a728e",
   "metadata": {},
   "outputs": [
    {
     "data": {
      "image/png": "[encoded data removed]",
      "text/plain": [
       "<Figure size 640x480 with 1 Axes>"
      ]
     },
     "metadata": {},
     "output_type": "display_data"
    }
   ],
   "source": [
    "# VGG16 - plot training and validation errors vs. epochs\n",
    "plt.plot(training_err_v, label = 'training error')\n",
    "plt.plot(val_err_v, label = 'validation error')\n",
    "plt.xlabel('Epoch')\n",
    "plt.ylabel('Error')\n",
    "plt.legend(loc = 'upper right')\n",
    "plt.title('VGG16 - Training and Validation Errors vs. Epochs')\n",
    "plt.show()"
   ]
  },
  {
   "cell_type": "markdown",
   "id": "ae10ce77",
   "metadata": {},
   "source": [
    "### 1. (c) v. Report Precision, Recall, and F1 score"
   ]
  },
  {
   "cell_type": "code",
   "execution_count": 15,
   "id": "1a6d8954",
   "metadata": {},
   "outputs": [
    {
     "name": "stdout",
     "output_type": "stream",
     "text": [
      "6/6 [==============================] - 4s 476ms/step\n"
     ]
    }
   ],
   "source": [
    "# EfficientNetB0 - test the network\n",
    "y_pred = model_e.predict(test)\n",
    "y_pred = np.argmax(y_pred, axis = 1)"
   ]
  },
  {
   "cell_type": "code",
   "execution_count": 16,
   "id": "ba2ba22d",
   "metadata": {},
   "outputs": [
    {
     "name": "stdout",
     "output_type": "stream",
     "text": [
      "              precision    recall  f1-score   support\n",
      "\n",
      "           0       1.00      0.14      0.25         7\n",
      "           1       1.00      0.78      0.88         9\n",
      "           2       0.64      1.00      0.78         9\n",
      "           3       0.38      0.62      0.48         8\n",
      "           4       1.00      0.22      0.36         9\n",
      "           5       1.00      0.56      0.71         9\n",
      "           6       0.75      1.00      0.86         9\n",
      "           7       0.67      0.67      0.67         9\n",
      "           8       0.69      1.00      0.82         9\n",
      "           9       0.89      0.89      0.89         9\n",
      "          10       0.88      0.78      0.82         9\n",
      "          11       0.75      1.00      0.86         9\n",
      "          12       0.50      0.56      0.53         9\n",
      "          13       0.80      0.44      0.57         9\n",
      "          14       0.54      0.78      0.64         9\n",
      "          15       0.62      0.62      0.62         8\n",
      "          16       0.82      1.00      0.90         9\n",
      "          17       0.50      0.38      0.43         8\n",
      "          18       0.67      0.67      0.67         9\n",
      "          19       1.00      0.88      0.93         8\n",
      "\n",
      "    accuracy                           0.71       174\n",
      "   macro avg       0.75      0.70      0.68       174\n",
      "weighted avg       0.76      0.71      0.69       174\n",
      "\n"
     ]
    }
   ],
   "source": [
    "# EfficientNetB0 - precision, recall, F1 score\n",
    "print(classification_report(test_e.classes, y_pred))"
   ]
  },
  {
   "cell_type": "code",
   "execution_count": 19,
   "id": "989c1f10",
   "metadata": {},
   "outputs": [
    {
     "name": "stdout",
     "output_type": "stream",
     "text": [
      "6/6 [==============================] - 32s 5s/step\n"
     ]
    }
   ],
   "source": [
    "# VGG16 - test the network\n",
    "y_pred = model_v.predict(test)\n",
    "y_pred = np.argmax(y_pred, axis = 1)"
   ]
  },
  {
   "cell_type": "code",
   "execution_count": 20,
   "id": "e9b4f3db",
   "metadata": {},
   "outputs": [
    {
     "name": "stdout",
     "output_type": "stream",
     "text": [
      "              precision    recall  f1-score   support\n",
      "\n",
      "           0       0.00      0.00      0.00         7\n",
      "           1       0.46      0.67      0.55         9\n",
      "           2       0.17      0.33      0.22         9\n",
      "           3       0.17      0.12      0.14         8\n",
      "           4       0.33      0.11      0.17         9\n",
      "           5       0.17      0.22      0.19         9\n",
      "           6       0.29      0.22      0.25         9\n",
      "           7       0.35      0.67      0.46         9\n",
      "           8       0.67      0.67      0.67         9\n",
      "           9       0.78      0.78      0.78         9\n",
      "          10       0.33      0.11      0.17         9\n",
      "          11       0.54      0.78      0.64         9\n",
      "          12       0.22      0.22      0.22         9\n",
      "          13       0.20      0.11      0.14         9\n",
      "          14       0.00      0.00      0.00         9\n",
      "          15       0.25      0.12      0.17         8\n",
      "          16       0.29      0.67      0.40         9\n",
      "          17       0.27      0.38      0.32         8\n",
      "          18       0.00      0.00      0.00         9\n",
      "          19       0.38      0.38      0.38         8\n",
      "\n",
      "    accuracy                           0.33       174\n",
      "   macro avg       0.29      0.33      0.29       174\n",
      "weighted avg       0.30      0.33      0.30       174\n",
      "\n"
     ]
    }
   ],
   "source": [
    "# VGG16 - precision, recall, F1 score\n",
    "print(classification_report(test_v.classes, y_pred))"
   ]
  }
 ],
 "metadata": {
  "kernelspec": {
   "display_name": "Python 3 (ipykernel)",
   "language": "python",
   "name": "python3"
  },
  "language_info": {
   "codemirror_mode": {
    "name": "ipython",
    "version": 3
   },
   "file_extension": ".py",
   "mimetype": "text/x-python",
   "name": "python",
   "nbconvert_exporter": "python",
   "pygments_lexer": "ipython3",
   "version": "3.9.12"
  }
 },
 "nbformat": 4,
 "nbformat_minor": 5
}
